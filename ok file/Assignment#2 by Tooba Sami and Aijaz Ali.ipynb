{
 "cells": [
  {
   "cell_type": "code",
   "execution_count": 42,
   "metadata": {
    "ExecuteTime": {
     "end_time": "2019-11-10T09:51:09.747936Z",
     "start_time": "2019-11-10T09:51:08.884428Z"
    }
   },
   "outputs": [],
   "source": [
    "import pandas as pd\n",
    "import numpy as np\n",
    "from sklearn.metrics import accuracy_score"
   ]
  },
  {
   "cell_type": "code",
   "execution_count": 43,
   "metadata": {},
   "outputs": [],
   "source": [
    "# data = pd.read_csv('')\n",
    "DataInc=pd.read_csv('https://archive.ics.uci.edu/ml/machine-learning-databases/census-income-mld/census-income.data.gz')"
   ]
  },
  {
   "cell_type": "code",
   "execution_count": 44,
   "metadata": {
    "ExecuteTime": {
     "end_time": "2019-11-10T09:51:36.584997Z",
     "start_time": "2019-11-10T09:51:09.749893Z"
    }
   },
   "outputs": [],
   "source": [
    "adult=pd.read_csv('https://archive.ics.uci.edu/ml/machine-learning-databases/adult/adult.data')"
   ]
  },
  {
   "cell_type": "code",
   "execution_count": 45,
   "metadata": {},
   "outputs": [
    {
     "name": "stdout",
     "output_type": "stream",
     "text": [
      "<class 'pandas.core.frame.DataFrame'>\n",
      "RangeIndex: 199522 entries, 0 to 199521\n",
      "Data columns (total 42 columns):\n",
      "73                                           199522 non-null int64\n",
      " Not in universe                             199522 non-null object\n",
      " 0                                           199522 non-null int64\n",
      " 0.1                                         199522 non-null int64\n",
      " High school graduate                        199522 non-null object\n",
      " 0.2                                         199522 non-null int64\n",
      " Not in universe.1                           199522 non-null object\n",
      " Widowed                                     199522 non-null object\n",
      " Not in universe or children                 199522 non-null object\n",
      " Not in universe.2                           199522 non-null object\n",
      " White                                       199522 non-null object\n",
      " All other                                   199522 non-null object\n",
      " Female                                      199522 non-null object\n",
      " Not in universe.3                           199522 non-null object\n",
      " Not in universe.4                           199522 non-null object\n",
      " Not in labor force                          199522 non-null object\n",
      " 0.3                                         199522 non-null int64\n",
      " 0.4                                         199522 non-null int64\n",
      " 0.5                                         199522 non-null int64\n",
      " Nonfiler                                    199522 non-null object\n",
      " Not in universe.5                           199522 non-null object\n",
      " Not in universe.6                           199522 non-null object\n",
      " Other Rel 18+ ever marr not in subfamily    199522 non-null object\n",
      " Other relative of householder               199522 non-null object\n",
      " 1700.09                                     199522 non-null float64\n",
      " ?                                           199522 non-null object\n",
      " ?.1                                         199522 non-null object\n",
      " ?.2                                         199522 non-null object\n",
      " Not in universe under 1 year old            199522 non-null object\n",
      " ?.3                                         199522 non-null object\n",
      " 0.6                                         199522 non-null int64\n",
      " Not in universe.7                           199522 non-null object\n",
      " United-States                               199522 non-null object\n",
      " United-States.1                             199522 non-null object\n",
      " United-States.2                             199522 non-null object\n",
      " Native- Born in the United States           199522 non-null object\n",
      " 0.7                                         199522 non-null int64\n",
      " Not in universe.8                           199522 non-null object\n",
      " 2                                           199522 non-null int64\n",
      " 0.8                                         199522 non-null int64\n",
      " 95                                          199522 non-null int64\n",
      " - 50000.                                    199522 non-null object\n",
      "dtypes: float64(1), int64(12), object(29)\n",
      "memory usage: 63.9+ MB\n"
     ]
    }
   ],
   "source": [
    "DataInc.info()"
   ]
  },
  {
   "cell_type": "code",
   "execution_count": 46,
   "metadata": {},
   "outputs": [],
   "source": [
    "#Preprocessing here.\n",
    "\n",
    "DataInc.columns=['age','class of worker','industry code','occupation code','adjusted gross income','education','wage per hour','enrolled in edu inst last wk','marital status','major industry code','major occupation code','mace','hispanic Origin','sex','member of a labor union','reason for unemployment','full or part time employment stat','capital gains','capital losses','divdends from stocks','federal income tax liability','tax filer status','region of previous residence','state of previous residence','detailed household and family stat','detailed household summary in household','instance weight','migration code-change in msa','migration code-change in reg','migration code-move within reg','live in this house 1 year ago','migration prev res in sunbelt','num persons worked for employer','family members under 18','total person earnings','country of birth father','country of birth mother','country of birth self','citizenship','total person income','own business or self employed','taxable income amount']\n",
    "\n",
    "\n"
   ]
  },
  {
   "cell_type": "code",
   "execution_count": 47,
   "metadata": {},
   "outputs": [
    {
     "name": "stdout",
     "output_type": "stream",
     "text": [
      "<class 'pandas.core.frame.DataFrame'>\n",
      "RangeIndex: 199522 entries, 0 to 199521\n",
      "Data columns (total 42 columns):\n",
      "age                                        199522 non-null int64\n",
      "class of worker                            199522 non-null object\n",
      "industry code                              199522 non-null int64\n",
      "occupation code                            199522 non-null int64\n",
      "adjusted gross income                      199522 non-null object\n",
      "education                                  199522 non-null int64\n",
      "wage per hour                              199522 non-null object\n",
      "enrolled in edu inst last wk               199522 non-null object\n",
      "marital status                             199522 non-null object\n",
      "major industry code                        199522 non-null object\n",
      "major occupation code                      199522 non-null object\n",
      "mace                                       199522 non-null object\n",
      "hispanic Origin                            199522 non-null object\n",
      "sex                                        199522 non-null object\n",
      "member of a labor union                    199522 non-null object\n",
      "reason for unemployment                    199522 non-null object\n",
      "full or part time employment stat          199522 non-null int64\n",
      "capital gains                              199522 non-null int64\n",
      "capital losses                             199522 non-null int64\n",
      "divdends from stocks                       199522 non-null object\n",
      "federal income tax liability               199522 non-null object\n",
      "tax filer status                           199522 non-null object\n",
      "region of previous residence               199522 non-null object\n",
      "state of previous residence                199522 non-null object\n",
      "detailed household and family stat         199522 non-null float64\n",
      "detailed household summary in household    199522 non-null object\n",
      "instance weight                            199522 non-null object\n",
      "migration code-change in msa               199522 non-null object\n",
      "migration code-change in reg               199522 non-null object\n",
      "migration code-move within reg             199522 non-null object\n",
      "live in this house 1 year ago              199522 non-null int64\n",
      "migration prev res in sunbelt              199522 non-null object\n",
      "num persons worked for employer            199522 non-null object\n",
      "family members under 18                    199522 non-null object\n",
      "total person earnings                      199522 non-null object\n",
      "country of birth father                    199522 non-null object\n",
      "country of birth mother                    199522 non-null int64\n",
      "country of birth self                      199522 non-null object\n",
      "citizenship                                199522 non-null int64\n",
      "total person income                        199522 non-null int64\n",
      "own business or self employed              199522 non-null int64\n",
      "taxable income amount                      199522 non-null object\n",
      "dtypes: float64(1), int64(12), object(29)\n",
      "memory usage: 63.9+ MB\n"
     ]
    }
   ],
   "source": [
    "DataInc.info()"
   ]
  },
  {
   "cell_type": "code",
   "execution_count": null,
   "metadata": {},
   "outputs": [],
   "source": []
  },
  {
   "cell_type": "code",
   "execution_count": 87,
   "metadata": {},
   "outputs": [],
   "source": [
    "adult.columns=['age','workclass','fnlwgt','education','education_num','marital_status','occupation','relationship','race','sex','capital_gain','capital_loss','hours_per_week','native_country','salary']"
   ]
  },
  {
   "cell_type": "code",
   "execution_count": 49,
   "metadata": {},
   "outputs": [],
   "source": [
    "#adult.info()"
   ]
  },
  {
   "cell_type": "code",
   "execution_count": 88,
   "metadata": {
    "ExecuteTime": {
     "end_time": "2019-11-10T09:51:36.657772Z",
     "start_time": "2019-11-10T09:51:36.587918Z"
    }
   },
   "outputs": [],
   "source": [
    "adult.replace(' ?',np.nan,inplace=True)\n",
    "#DataInc.replace(' ?',np.nan,inplace=True)"
   ]
  },
  {
   "cell_type": "code",
   "execution_count": 89,
   "metadata": {
    "ExecuteTime": {
     "end_time": "2019-11-10T09:51:36.688409Z",
     "start_time": "2019-11-10T09:51:36.660119Z"
    }
   },
   "outputs": [],
   "source": [
    "adult.dropna(how='any',inplace=True)\n",
    "#DataInc.dropna(how='any',inplace=True)"
   ]
  },
  {
   "cell_type": "code",
   "execution_count": 52,
   "metadata": {},
   "outputs": [
    {
     "name": "stdout",
     "output_type": "stream",
     "text": [
      "<class 'pandas.core.frame.DataFrame'>\n",
      "Int64Index: 95130 entries, 0 to 199518\n",
      "Data columns (total 42 columns):\n",
      "age                                        95130 non-null int64\n",
      "class of worker                            95130 non-null object\n",
      "industry code                              95130 non-null int64\n",
      "occupation code                            95130 non-null int64\n",
      "adjusted gross income                      95130 non-null object\n",
      "education                                  95130 non-null int64\n",
      "wage per hour                              95130 non-null object\n",
      "enrolled in edu inst last wk               95130 non-null object\n",
      "marital status                             95130 non-null object\n",
      "major industry code                        95130 non-null object\n",
      "major occupation code                      95130 non-null object\n",
      "mace                                       95130 non-null object\n",
      "hispanic Origin                            95130 non-null object\n",
      "sex                                        95130 non-null object\n",
      "member of a labor union                    95130 non-null object\n",
      "reason for unemployment                    95130 non-null object\n",
      "full or part time employment stat          95130 non-null int64\n",
      "capital gains                              95130 non-null int64\n",
      "capital losses                             95130 non-null int64\n",
      "divdends from stocks                       95130 non-null object\n",
      "federal income tax liability               95130 non-null object\n",
      "tax filer status                           95130 non-null object\n",
      "region of previous residence               95130 non-null object\n",
      "state of previous residence                95130 non-null object\n",
      "detailed household and family stat         95130 non-null float64\n",
      "detailed household summary in household    95130 non-null object\n",
      "instance weight                            95130 non-null object\n",
      "migration code-change in msa               95130 non-null object\n",
      "migration code-change in reg               95130 non-null object\n",
      "migration code-move within reg             95130 non-null object\n",
      "live in this house 1 year ago              95130 non-null int64\n",
      "migration prev res in sunbelt              95130 non-null object\n",
      "num persons worked for employer            95130 non-null object\n",
      "family members under 18                    95130 non-null object\n",
      "total person earnings                      95130 non-null object\n",
      "country of birth father                    95130 non-null object\n",
      "country of birth mother                    95130 non-null int64\n",
      "country of birth self                      95130 non-null object\n",
      "citizenship                                95130 non-null int64\n",
      "total person income                        95130 non-null int64\n",
      "own business or self employed              95130 non-null int64\n",
      "taxable income amount                      95130 non-null object\n",
      "dtypes: float64(1), int64(12), object(29)\n",
      "memory usage: 31.2+ MB\n"
     ]
    }
   ],
   "source": [
    "DataInc.info()"
   ]
  },
  {
   "cell_type": "code",
   "execution_count": 90,
   "metadata": {
    "ExecuteTime": {
     "end_time": "2019-11-10T09:51:36.720942Z",
     "start_time": "2019-11-10T09:51:36.691179Z"
    }
   },
   "outputs": [],
   "source": [
    "adult.salary=[0 if x == \" <=50K\" else 1 for x in adult.salary]\n",
    "#DataInc.head(5)"
   ]
  },
  {
   "cell_type": "code",
   "execution_count": 54,
   "metadata": {
    "ExecuteTime": {
     "end_time": "2019-11-10T09:51:36.733652Z",
     "start_time": "2019-11-10T09:51:36.722813Z"
    }
   },
   "outputs": [],
   "source": [
    "#DataInc[\"taxable income amount\"]=DataInc[\"taxable income amount\"].astype(float)\n",
    "\n",
    "#adult.drop(columns='education_num',inplace=True)"
   ]
  },
  {
   "cell_type": "code",
   "execution_count": 91,
   "metadata": {
    "ExecuteTime": {
     "end_time": "2019-11-10T09:51:36.745599Z",
     "start_time": "2019-11-10T09:51:36.735762Z"
    }
   },
   "outputs": [],
   "source": [
    "# target=DataInc.iloc[:,-1:]\n",
    "target=adult.iloc[:,-1:]"
   ]
  },
  {
   "cell_type": "code",
   "execution_count": 56,
   "metadata": {
    "ExecuteTime": {
     "end_time": "2019-11-10T09:51:36.764865Z",
     "start_time": "2019-11-10T09:51:36.752056Z"
    }
   },
   "outputs": [],
   "source": [
    "DataInc.drop(columns=['taxable income amount'],inplace=True)"
   ]
  },
  {
   "cell_type": "code",
   "execution_count": null,
   "metadata": {},
   "outputs": [],
   "source": []
  },
  {
   "cell_type": "code",
   "execution_count": 58,
   "metadata": {},
   "outputs": [],
   "source": [
    "DataInc.drop(columns=['total person income'],inplace=True)"
   ]
  },
  {
   "cell_type": "code",
   "execution_count": 92,
   "metadata": {},
   "outputs": [],
   "source": [
    "#adult=pd.get_dummies(adult,columns=['workclass','education','marital_status','occupation','relationship','race','sex','native_country'])\n"
   ]
  },
  {
   "cell_type": "code",
   "execution_count": 61,
   "metadata": {
    "ExecuteTime": {
     "end_time": "2019-11-10T09:51:36.823663Z",
     "start_time": "2019-11-10T09:51:36.767459Z"
    }
   },
   "outputs": [],
   "source": [
    "\n",
    "DataInc=pd.get_dummies(DataInc,columns=['class of worker','education','marital status','occupation code','sex','citizenship'])\n",
    "\n"
   ]
  },
  {
   "cell_type": "markdown",
   "metadata": {},
   "source": [
    "# Modeling"
   ]
  },
  {
   "cell_type": "code",
   "execution_count": 93,
   "metadata": {
    "ExecuteTime": {
     "end_time": "2019-11-10T09:51:37.546185Z",
     "start_time": "2019-11-10T09:51:36.828635Z"
    }
   },
   "outputs": [],
   "source": [
    "from sklearn.model_selection import train_test_split\n",
    "X_train,X_test,y_train,y_test=train_test_split(adult,target,test_size=0.2,random_state=10)"
   ]
  },
  {
   "cell_type": "code",
   "execution_count": 65,
   "metadata": {},
   "outputs": [
    {
     "name": "stderr",
     "output_type": "stream",
     "text": [
      "//anaconda3/lib/python3.7/site-packages/pandas/core/frame.py:3940: SettingWithCopyWarning: \n",
      "A value is trying to be set on a copy of a slice from a DataFrame\n",
      "\n",
      "See the caveats in the documentation: http://pandas.pydata.org/pandas-docs/stable/indexing.html#indexing-view-versus-copy\n",
      "  errors=errors)\n"
     ]
    }
   ],
   "source": [
    "X_train.drop(columns=['adjusted gross income'],inplace=True)"
   ]
  },
  {
   "cell_type": "code",
   "execution_count": 67,
   "metadata": {},
   "outputs": [
    {
     "name": "stderr",
     "output_type": "stream",
     "text": [
      "//anaconda3/lib/python3.7/site-packages/pandas/core/frame.py:3940: SettingWithCopyWarning: \n",
      "A value is trying to be set on a copy of a slice from a DataFrame\n",
      "\n",
      "See the caveats in the documentation: http://pandas.pydata.org/pandas-docs/stable/indexing.html#indexing-view-versus-copy\n",
      "  errors=errors)\n"
     ]
    }
   ],
   "source": [
    "X_train.drop(columns=['country of birth self'],inplace=True)"
   ]
  },
  {
   "cell_type": "code",
   "execution_count": 69,
   "metadata": {},
   "outputs": [
    {
     "name": "stderr",
     "output_type": "stream",
     "text": [
      "//anaconda3/lib/python3.7/site-packages/pandas/core/frame.py:3940: SettingWithCopyWarning: \n",
      "A value is trying to be set on a copy of a slice from a DataFrame\n",
      "\n",
      "See the caveats in the documentation: http://pandas.pydata.org/pandas-docs/stable/indexing.html#indexing-view-versus-copy\n",
      "  errors=errors)\n"
     ]
    }
   ],
   "source": [
    "X_train.drop(columns=['country of birth father'],inplace=True)"
   ]
  },
  {
   "cell_type": "code",
   "execution_count": 70,
   "metadata": {},
   "outputs": [],
   "source": [
    "X_train.drop(columns=['country of birth mother'],inplace=True)"
   ]
  },
  {
   "cell_type": "code",
   "execution_count": 77,
   "metadata": {},
   "outputs": [
    {
     "name": "stderr",
     "output_type": "stream",
     "text": [
      "//anaconda3/lib/python3.7/site-packages/pandas/core/frame.py:3940: SettingWithCopyWarning: \n",
      "A value is trying to be set on a copy of a slice from a DataFrame\n",
      "\n",
      "See the caveats in the documentation: http://pandas.pydata.org/pandas-docs/stable/indexing.html#indexing-view-versus-copy\n",
      "  errors=errors)\n"
     ]
    }
   ],
   "source": [
    "X_train.drop(columns=['enrolled in edu inst last wk'],inplace=True)\n"
   ]
  },
  {
   "cell_type": "code",
   "execution_count": 80,
   "metadata": {},
   "outputs": [
    {
     "name": "stderr",
     "output_type": "stream",
     "text": [
      "//anaconda3/lib/python3.7/site-packages/pandas/core/frame.py:3940: SettingWithCopyWarning: \n",
      "A value is trying to be set on a copy of a slice from a DataFrame\n",
      "\n",
      "See the caveats in the documentation: http://pandas.pydata.org/pandas-docs/stable/indexing.html#indexing-view-versus-copy\n",
      "  errors=errors)\n"
     ]
    }
   ],
   "source": [
    "X_train.drop(columns=['major industry code'],inplace=True)\n",
    "X_train.drop(columns=['major occupation code'],inplace=True)\n",
    "X_train.drop(columns=['member of a labor union'],inplace=True)\n",
    "X_train.drop(columns=['reason for unemployment'],inplace=True)\n",
    "\n"
   ]
  },
  {
   "cell_type": "code",
   "execution_count": 83,
   "metadata": {},
   "outputs": [
    {
     "name": "stderr",
     "output_type": "stream",
     "text": [
      "//anaconda3/lib/python3.7/site-packages/pandas/core/frame.py:3940: SettingWithCopyWarning: \n",
      "A value is trying to be set on a copy of a slice from a DataFrame\n",
      "\n",
      "See the caveats in the documentation: http://pandas.pydata.org/pandas-docs/stable/indexing.html#indexing-view-versus-copy\n",
      "  errors=errors)\n"
     ]
    }
   ],
   "source": [
    "X_train.drop(columns=['mace'],inplace=True)\n",
    "\n",
    "\n"
   ]
  },
  {
   "cell_type": "code",
   "execution_count": 84,
   "metadata": {},
   "outputs": [
    {
     "data": {
      "text/html": [
       "<div>\n",
       "<style scoped>\n",
       "    .dataframe tbody tr th:only-of-type {\n",
       "        vertical-align: middle;\n",
       "    }\n",
       "\n",
       "    .dataframe tbody tr th {\n",
       "        vertical-align: top;\n",
       "    }\n",
       "\n",
       "    .dataframe thead th {\n",
       "        text-align: right;\n",
       "    }\n",
       "</style>\n",
       "<table border=\"1\" class=\"dataframe\">\n",
       "  <thead>\n",
       "    <tr style=\"text-align: right;\">\n",
       "      <th></th>\n",
       "      <th>age</th>\n",
       "      <th>industry code</th>\n",
       "      <th>hispanic Origin</th>\n",
       "      <th>full or part time employment stat</th>\n",
       "      <th>capital gains</th>\n",
       "      <th>capital losses</th>\n",
       "      <th>divdends from stocks</th>\n",
       "      <th>federal income tax liability</th>\n",
       "      <th>tax filer status</th>\n",
       "      <th>region of previous residence</th>\n",
       "      <th>...</th>\n",
       "      <th>occupation code_43</th>\n",
       "      <th>occupation code_44</th>\n",
       "      <th>occupation code_45</th>\n",
       "      <th>occupation code_46</th>\n",
       "      <th>sex_ No</th>\n",
       "      <th>sex_ Not in universe</th>\n",
       "      <th>sex_ Yes</th>\n",
       "      <th>citizenship_0</th>\n",
       "      <th>citizenship_1</th>\n",
       "      <th>citizenship_2</th>\n",
       "    </tr>\n",
       "  </thead>\n",
       "  <tbody>\n",
       "    <tr>\n",
       "      <th>2585</th>\n",
       "      <td>29</td>\n",
       "      <td>7</td>\n",
       "      <td>Male</td>\n",
       "      <td>0</td>\n",
       "      <td>0</td>\n",
       "      <td>0</td>\n",
       "      <td>Joint both under 65</td>\n",
       "      <td>Not in universe</td>\n",
       "      <td>Not in universe</td>\n",
       "      <td>Householder</td>\n",
       "      <td>...</td>\n",
       "      <td>0</td>\n",
       "      <td>0</td>\n",
       "      <td>0</td>\n",
       "      <td>0</td>\n",
       "      <td>0</td>\n",
       "      <td>1</td>\n",
       "      <td>0</td>\n",
       "      <td>0</td>\n",
       "      <td>0</td>\n",
       "      <td>1</td>\n",
       "    </tr>\n",
       "    <tr>\n",
       "      <th>5109</th>\n",
       "      <td>53</td>\n",
       "      <td>0</td>\n",
       "      <td>Male</td>\n",
       "      <td>0</td>\n",
       "      <td>0</td>\n",
       "      <td>0</td>\n",
       "      <td>Joint both under 65</td>\n",
       "      <td>Not in universe</td>\n",
       "      <td>Not in universe</td>\n",
       "      <td>Householder</td>\n",
       "      <td>...</td>\n",
       "      <td>0</td>\n",
       "      <td>0</td>\n",
       "      <td>0</td>\n",
       "      <td>0</td>\n",
       "      <td>0</td>\n",
       "      <td>1</td>\n",
       "      <td>0</td>\n",
       "      <td>0</td>\n",
       "      <td>0</td>\n",
       "      <td>1</td>\n",
       "    </tr>\n",
       "    <tr>\n",
       "      <th>65929</th>\n",
       "      <td>42</td>\n",
       "      <td>6</td>\n",
       "      <td>Female</td>\n",
       "      <td>0</td>\n",
       "      <td>0</td>\n",
       "      <td>0</td>\n",
       "      <td>Joint both under 65</td>\n",
       "      <td>Not in universe</td>\n",
       "      <td>Not in universe</td>\n",
       "      <td>Spouse of householder</td>\n",
       "      <td>...</td>\n",
       "      <td>0</td>\n",
       "      <td>0</td>\n",
       "      <td>0</td>\n",
       "      <td>0</td>\n",
       "      <td>0</td>\n",
       "      <td>1</td>\n",
       "      <td>0</td>\n",
       "      <td>0</td>\n",
       "      <td>0</td>\n",
       "      <td>1</td>\n",
       "    </tr>\n",
       "    <tr>\n",
       "      <th>153801</th>\n",
       "      <td>39</td>\n",
       "      <td>11</td>\n",
       "      <td>Male</td>\n",
       "      <td>0</td>\n",
       "      <td>0</td>\n",
       "      <td>25</td>\n",
       "      <td>Single</td>\n",
       "      <td>Northeast</td>\n",
       "      <td>North Carolina</td>\n",
       "      <td>Nonfamily householder</td>\n",
       "      <td>...</td>\n",
       "      <td>0</td>\n",
       "      <td>0</td>\n",
       "      <td>0</td>\n",
       "      <td>0</td>\n",
       "      <td>0</td>\n",
       "      <td>1</td>\n",
       "      <td>0</td>\n",
       "      <td>0</td>\n",
       "      <td>0</td>\n",
       "      <td>1</td>\n",
       "    </tr>\n",
       "    <tr>\n",
       "      <th>51291</th>\n",
       "      <td>34</td>\n",
       "      <td>4</td>\n",
       "      <td>Male</td>\n",
       "      <td>0</td>\n",
       "      <td>0</td>\n",
       "      <td>0</td>\n",
       "      <td>Joint both under 65</td>\n",
       "      <td>Not in universe</td>\n",
       "      <td>Not in universe</td>\n",
       "      <td>Householder</td>\n",
       "      <td>...</td>\n",
       "      <td>0</td>\n",
       "      <td>0</td>\n",
       "      <td>0</td>\n",
       "      <td>0</td>\n",
       "      <td>0</td>\n",
       "      <td>1</td>\n",
       "      <td>0</td>\n",
       "      <td>0</td>\n",
       "      <td>0</td>\n",
       "      <td>1</td>\n",
       "    </tr>\n",
       "  </tbody>\n",
       "</table>\n",
       "<p>5 rows × 983 columns</p>\n",
       "</div>"
      ],
      "text/plain": [
       "        age  industry code hispanic Origin  full or part time employment stat  \\\n",
       "2585     29              7            Male                                  0   \n",
       "5109     53              0            Male                                  0   \n",
       "65929    42              6          Female                                  0   \n",
       "153801   39             11            Male                                  0   \n",
       "51291    34              4            Male                                  0   \n",
       "\n",
       "        capital gains  capital losses  divdends from stocks  \\\n",
       "2585                0               0   Joint both under 65   \n",
       "5109                0               0   Joint both under 65   \n",
       "65929               0               0   Joint both under 65   \n",
       "153801              0              25                Single   \n",
       "51291               0               0   Joint both under 65   \n",
       "\n",
       "       federal income tax liability  tax filer status  \\\n",
       "2585                Not in universe   Not in universe   \n",
       "5109                Not in universe   Not in universe   \n",
       "65929               Not in universe   Not in universe   \n",
       "153801                    Northeast    North Carolina   \n",
       "51291               Not in universe   Not in universe   \n",
       "\n",
       "       region of previous residence  ... occupation code_43  \\\n",
       "2585                    Householder  ...                  0   \n",
       "5109                    Householder  ...                  0   \n",
       "65929         Spouse of householder  ...                  0   \n",
       "153801        Nonfamily householder  ...                  0   \n",
       "51291                   Householder  ...                  0   \n",
       "\n",
       "        occupation code_44 occupation code_45 occupation code_46 sex_ No  \\\n",
       "2585                     0                  0                  0       0   \n",
       "5109                     0                  0                  0       0   \n",
       "65929                    0                  0                  0       0   \n",
       "153801                   0                  0                  0       0   \n",
       "51291                    0                  0                  0       0   \n",
       "\n",
       "       sex_ Not in universe sex_ Yes  citizenship_0 citizenship_1  \\\n",
       "2585                      1        0              0             0   \n",
       "5109                      1        0              0             0   \n",
       "65929                     1        0              0             0   \n",
       "153801                    1        0              0             0   \n",
       "51291                     1        0              0             0   \n",
       "\n",
       "       citizenship_2  \n",
       "2585               1  \n",
       "5109               1  \n",
       "65929              1  \n",
       "153801             1  \n",
       "51291              1  \n",
       "\n",
       "[5 rows x 983 columns]"
      ]
     },
     "execution_count": 84,
     "metadata": {},
     "output_type": "execute_result"
    }
   ],
   "source": [
    "X_train.head()"
   ]
  },
  {
   "cell_type": "markdown",
   "metadata": {},
   "source": [
    "### KNN"
   ]
  },
  {
   "cell_type": "code",
   "execution_count": 94,
   "metadata": {
    "ExecuteTime": {
     "end_time": "2019-11-10T09:51:37.862755Z",
     "start_time": "2019-11-10T09:51:37.549207Z"
    }
   },
   "outputs": [],
   "source": [
    "from sklearn.neighbors import KNeighborsClassifier\n",
    "model=KNeighborsClassifier()"
   ]
  },
  {
   "cell_type": "code",
   "execution_count": 95,
   "metadata": {},
   "outputs": [
    {
     "name": "stderr",
     "output_type": "stream",
     "text": [
      "//anaconda3/lib/python3.7/site-packages/ipykernel_launcher.py:1: DataConversionWarning: A column-vector y was passed when a 1d array was expected. Please change the shape of y to (n_samples, ), for example using ravel().\n",
      "  \"\"\"Entry point for launching an IPython kernel.\n"
     ]
    },
    {
     "data": {
      "text/plain": [
       "KNeighborsClassifier(algorithm='auto', leaf_size=30, metric='minkowski',\n",
       "                     metric_params=None, n_jobs=None, n_neighbors=5, p=2,\n",
       "                     weights='uniform')"
      ]
     },
     "execution_count": 95,
     "metadata": {},
     "output_type": "execute_result"
    }
   ],
   "source": [
    "model.fit(X_train,y_train)"
   ]
  },
  {
   "cell_type": "code",
   "execution_count": 96,
   "metadata": {
    "ExecuteTime": {
     "end_time": "2019-11-10T09:51:38.550355Z",
     "start_time": "2019-11-10T09:51:37.864788Z"
    }
   },
   "outputs": [
    {
     "name": "stderr",
     "output_type": "stream",
     "text": [
      "//anaconda3/lib/python3.7/site-packages/ipykernel_launcher.py:1: SettingWithCopyWarning: \n",
      "A value is trying to be set on a copy of a slice from a DataFrame.\n",
      "Try using .loc[row_indexer,col_indexer] = value instead\n",
      "\n",
      "See the caveats in the documentation: http://pandas.pydata.org/pandas-docs/stable/indexing.html#indexing-view-versus-copy\n",
      "  \"\"\"Entry point for launching an IPython kernel.\n"
     ]
    }
   ],
   "source": [
    "y_test['prediction']=model.predict(X_test)"
   ]
  },
  {
   "cell_type": "code",
   "execution_count": 99,
   "metadata": {
    "ExecuteTime": {
     "end_time": "2019-11-10T09:51:38.564763Z",
     "start_time": "2019-11-10T09:51:38.554285Z"
    }
   },
   "outputs": [
    {
     "name": "stdout",
     "output_type": "stream",
     "text": [
      "KNN accuracy: 0.769600530416045\n"
     ]
    }
   ],
   "source": [
    "print(f\"\"\"KNN accuracy: {accuracy_score(y_test.salary,y_test.prediction)}\"\"\")"
   ]
  },
  {
   "cell_type": "code",
   "execution_count": null,
   "metadata": {},
   "outputs": [],
   "source": []
  },
  {
   "cell_type": "markdown",
   "metadata": {},
   "source": [
    "### Keras "
   ]
  },
  {
   "cell_type": "code",
   "execution_count": 100,
   "metadata": {
    "ExecuteTime": {
     "end_time": "2019-11-10T09:51:40.994284Z",
     "start_time": "2019-11-10T09:51:38.567029Z"
    }
   },
   "outputs": [
    {
     "ename": "ModuleNotFoundError",
     "evalue": "No module named 'keras'",
     "output_type": "error",
     "traceback": [
      "\u001b[0;31m---------------------------------------------------------------------------\u001b[0m",
      "\u001b[0;31mModuleNotFoundError\u001b[0m                       Traceback (most recent call last)",
      "\u001b[0;32m<ipython-input-100-88d96843a926>\u001b[0m in \u001b[0;36m<module>\u001b[0;34m\u001b[0m\n\u001b[0;32m----> 1\u001b[0;31m \u001b[0;32mimport\u001b[0m \u001b[0mkeras\u001b[0m\u001b[0;34m\u001b[0m\u001b[0;34m\u001b[0m\u001b[0m\n\u001b[0m",
      "\u001b[0;31mModuleNotFoundError\u001b[0m: No module named 'keras'"
     ]
    }
   ],
   "source": [
    "import keras"
   ]
  },
  {
   "cell_type": "code",
   "execution_count": 104,
   "metadata": {
    "ExecuteTime": {
     "end_time": "2019-11-10T09:51:41.003508Z",
     "start_time": "2019-11-10T09:51:40.997474Z"
    }
   },
   "outputs": [
    {
     "ename": "ModuleNotFoundError",
     "evalue": "No module named 'keras'",
     "output_type": "error",
     "traceback": [
      "\u001b[0;31m---------------------------------------------------------------------------\u001b[0m",
      "\u001b[0;31mModuleNotFoundError\u001b[0m                       Traceback (most recent call last)",
      "\u001b[0;32m<ipython-input-104-31dc8ad63c26>\u001b[0m in \u001b[0;36m<module>\u001b[0;34m\u001b[0m\n\u001b[0;32m----> 1\u001b[0;31m \u001b[0;32mfrom\u001b[0m \u001b[0mkeras\u001b[0m\u001b[0;34m.\u001b[0m\u001b[0mmodels\u001b[0m \u001b[0;32mimport\u001b[0m \u001b[0mSequential\u001b[0m\u001b[0;34m\u001b[0m\u001b[0;34m\u001b[0m\u001b[0m\n\u001b[0m\u001b[1;32m      2\u001b[0m \u001b[0;32mfrom\u001b[0m \u001b[0mkeras\u001b[0m\u001b[0;34m.\u001b[0m\u001b[0mlayers\u001b[0m \u001b[0;32mimport\u001b[0m \u001b[0mDense\u001b[0m\u001b[0;34m\u001b[0m\u001b[0;34m\u001b[0m\u001b[0m\n\u001b[1;32m      3\u001b[0m \u001b[0;32mfrom\u001b[0m \u001b[0mkeras\u001b[0m\u001b[0;34m.\u001b[0m\u001b[0mlosses\u001b[0m \u001b[0;32mimport\u001b[0m \u001b[0mcategorical_crossentropy\u001b[0m\u001b[0;34m\u001b[0m\u001b[0;34m\u001b[0m\u001b[0m\n\u001b[1;32m      4\u001b[0m \u001b[0;32mfrom\u001b[0m \u001b[0mkeras\u001b[0m\u001b[0;34m.\u001b[0m\u001b[0mmetrics\u001b[0m \u001b[0;32mimport\u001b[0m \u001b[0mcategorical_accuracy\u001b[0m\u001b[0;34m,\u001b[0m\u001b[0maccuracy\u001b[0m\u001b[0;34m\u001b[0m\u001b[0;34m\u001b[0m\u001b[0m\n\u001b[1;32m      5\u001b[0m \u001b[0;32mfrom\u001b[0m \u001b[0mkeras\u001b[0m\u001b[0;34m.\u001b[0m\u001b[0moptimizers\u001b[0m \u001b[0;32mimport\u001b[0m \u001b[0mAdam\u001b[0m\u001b[0;34m\u001b[0m\u001b[0;34m\u001b[0m\u001b[0m\n",
      "\u001b[0;31mModuleNotFoundError\u001b[0m: No module named 'keras'"
     ]
    }
   ],
   "source": [
    "from keras.models import Sequential\n",
    "from keras.layers import Dense\n",
    "from keras.losses import categorical_crossentropy\n",
    "from keras.metrics import categorical_accuracy,accuracy\n",
    "from keras.optimizers import Adam"
   ]
  },
  {
   "cell_type": "code",
   "execution_count": 105,
   "metadata": {
    "ExecuteTime": {
     "end_time": "2019-11-10T09:51:41.017419Z",
     "start_time": "2019-11-10T09:51:41.006977Z"
    }
   },
   "outputs": [],
   "source": [
    "import numpy as np\n",
    "seed = 7\n",
    "np.random.seed(seed)"
   ]
  },
  {
   "cell_type": "code",
   "execution_count": 106,
   "metadata": {
    "ExecuteTime": {
     "end_time": "2019-11-10T09:53:20.527075Z",
     "start_time": "2019-11-10T09:51:41.022086Z"
    },
    "scrolled": false
   },
   "outputs": [
    {
     "ename": "NameError",
     "evalue": "name 'Sequential' is not defined",
     "output_type": "error",
     "traceback": [
      "\u001b[0;31m---------------------------------------------------------------------------\u001b[0m",
      "\u001b[0;31mNameError\u001b[0m                                 Traceback (most recent call last)",
      "\u001b[0;32m<ipython-input-106-0d849f662039>\u001b[0m in \u001b[0;36m<module>\u001b[0;34m\u001b[0m\n\u001b[0;32m----> 1\u001b[0;31m \u001b[0mkeras_model\u001b[0m \u001b[0;34m=\u001b[0m \u001b[0mSequential\u001b[0m\u001b[0;34m(\u001b[0m\u001b[0;34m)\u001b[0m\u001b[0;34m\u001b[0m\u001b[0;34m\u001b[0m\u001b[0m\n\u001b[0m\u001b[1;32m      2\u001b[0m \u001b[0mkeras_model\u001b[0m\u001b[0;34m.\u001b[0m\u001b[0madd\u001b[0m\u001b[0;34m(\u001b[0m\u001b[0mDense\u001b[0m\u001b[0;34m(\u001b[0m\u001b[0;36m1\u001b[0m\u001b[0;34m,\u001b[0m \u001b[0minput_shape\u001b[0m\u001b[0;34m=\u001b[0m\u001b[0;34m(\u001b[0m\u001b[0;36m103\u001b[0m\u001b[0;34m,\u001b[0m\u001b[0;34m)\u001b[0m\u001b[0;34m,\u001b[0m \u001b[0mactivation\u001b[0m\u001b[0;34m=\u001b[0m\u001b[0;34m'relu'\u001b[0m\u001b[0;34m)\u001b[0m\u001b[0;34m)\u001b[0m\u001b[0;34m\u001b[0m\u001b[0;34m\u001b[0m\u001b[0m\n\u001b[1;32m      3\u001b[0m \u001b[0mkeras_model\u001b[0m\u001b[0;34m.\u001b[0m\u001b[0madd\u001b[0m\u001b[0;34m(\u001b[0m\u001b[0mDense\u001b[0m\u001b[0;34m(\u001b[0m\u001b[0;36m2\u001b[0m\u001b[0;34m,\u001b[0m \u001b[0mactivation\u001b[0m\u001b[0;34m=\u001b[0m\u001b[0;34m'softmax'\u001b[0m\u001b[0;34m)\u001b[0m\u001b[0;34m)\u001b[0m\u001b[0;34m\u001b[0m\u001b[0;34m\u001b[0m\u001b[0m\n\u001b[1;32m      4\u001b[0m keras_model.compile(Adam(lr=0.05), loss='categorical_crossentropy', \\\n\u001b[1;32m      5\u001b[0m               metrics=['categorical_accuracy', 'accuracy'])\n",
      "\u001b[0;31mNameError\u001b[0m: name 'Sequential' is not defined"
     ]
    }
   ],
   "source": [
    "keras_model = Sequential()\n",
    "keras_model.add(Dense(1, input_shape=(103,), activation='relu'))\n",
    "keras_model.add(Dense(2, activation='softmax'))\n",
    "keras_model.compile(Adam(lr=0.05), loss='categorical_crossentropy', \\\n",
    "              metrics=['categorical_accuracy', 'accuracy'])\n",
    "from keras.utils import to_categorical\n",
    "history = keras_model.fit(X_train, to_categorical(y_train), epochs=100)"
   ]
  },
  {
   "cell_type": "code",
   "execution_count": 107,
   "metadata": {
    "ExecuteTime": {
     "end_time": "2019-11-10T09:53:20.623150Z",
     "start_time": "2019-11-10T09:53:20.529723Z"
    }
   },
   "outputs": [
    {
     "ename": "NameError",
     "evalue": "name 'keras_model' is not defined",
     "output_type": "error",
     "traceback": [
      "\u001b[0;31m---------------------------------------------------------------------------\u001b[0m",
      "\u001b[0;31mNameError\u001b[0m                                 Traceback (most recent call last)",
      "\u001b[0;32m<ipython-input-107-c5d649795e91>\u001b[0m in \u001b[0;36m<module>\u001b[0;34m\u001b[0m\n\u001b[0;32m----> 1\u001b[0;31m \u001b[0my_test\u001b[0m\u001b[0;34m[\u001b[0m\u001b[0;34m'keras_prediction'\u001b[0m\u001b[0;34m]\u001b[0m\u001b[0;34m=\u001b[0m\u001b[0mnp\u001b[0m\u001b[0;34m.\u001b[0m\u001b[0margmax\u001b[0m\u001b[0;34m(\u001b[0m\u001b[0mkeras_model\u001b[0m\u001b[0;34m.\u001b[0m\u001b[0mpredict\u001b[0m\u001b[0;34m(\u001b[0m\u001b[0mX_test\u001b[0m\u001b[0;34m)\u001b[0m\u001b[0;34m,\u001b[0m\u001b[0maxis\u001b[0m\u001b[0;34m=\u001b[0m\u001b[0;36m1\u001b[0m\u001b[0;34m)\u001b[0m\u001b[0;34m\u001b[0m\u001b[0;34m\u001b[0m\u001b[0m\n\u001b[0m",
      "\u001b[0;31mNameError\u001b[0m: name 'keras_model' is not defined"
     ]
    }
   ],
   "source": [
    "y_test['keras_prediction']=np.argmax(keras_model.predict(X_test),axis=1)"
   ]
  },
  {
   "cell_type": "code",
   "execution_count": 20,
   "metadata": {
    "ExecuteTime": {
     "end_time": "2019-11-10T09:53:20.763503Z",
     "start_time": "2019-11-10T09:53:20.753594Z"
    }
   },
   "outputs": [
    {
     "name": "stdout",
     "output_type": "stream",
     "text": [
      "Keras accuracy: 0.7526935189789491\n"
     ]
    }
   ],
   "source": [
    "print(f'Keras accuracy: {accuracy_score(y_test.salary, y_test.keras_prediction)}')"
   ]
  },
  {
   "cell_type": "code",
   "execution_count": 103,
   "metadata": {},
   "outputs": [],
   "source": [
    "#Done it."
   ]
  },
  {
   "cell_type": "code",
   "execution_count": null,
   "metadata": {},
   "outputs": [],
   "source": []
  }
 ],
 "metadata": {
  "kernelspec": {
   "display_name": "Python 3",
   "language": "python",
   "name": "python3"
  },
  "language_info": {
   "codemirror_mode": {
    "name": "ipython",
    "version": 3
   },
   "file_extension": ".py",
   "mimetype": "text/x-python",
   "name": "python",
   "nbconvert_exporter": "python",
   "pygments_lexer": "ipython3",
   "version": "3.7.3"
  }
 },
 "nbformat": 4,
 "nbformat_minor": 2
}
